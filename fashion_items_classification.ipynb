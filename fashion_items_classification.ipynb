{
  "cells": [
    {
      "cell_type": "markdown",
      "source": [
        "### **Library Importation**"
      ],
      "metadata": {
        "id": "h9bc2_A2iYkv"
      }
    },
    {
      "cell_type": "code",
      "source": [
        "# installing keras-tuner\n",
        "!pip install keras-tuner"
      ],
      "metadata": {
        "colab": {
          "base_uri": "https://localhost:8080/"
        },
        "id": "pWcafl7ocesi",
        "outputId": "bd3dd554-81b5-4498-8240-622aded2d6c5"
      },
      "execution_count": 1,
      "outputs": [
        {
          "output_type": "stream",
          "name": "stdout",
          "text": [
            "Collecting keras-tuner\n",
            "  Downloading keras_tuner-1.4.7-py3-none-any.whl (129 kB)\n",
            "\u001b[?25l     \u001b[90m━━━━━━━━━━━━━━━━━━━━━━━━━━━━━━━━━━━━━━━━\u001b[0m \u001b[32m0.0/129.1 kB\u001b[0m \u001b[31m?\u001b[0m eta \u001b[36m-:--:--\u001b[0m\r\u001b[2K     \u001b[90m━━━━━━━━━━━━━━━━━━━━━━━━━━━━━━━━━━━━━━━━\u001b[0m \u001b[32m129.1/129.1 kB\u001b[0m \u001b[31m4.2 MB/s\u001b[0m eta \u001b[36m0:00:00\u001b[0m\n",
            "\u001b[?25hRequirement already satisfied: keras in /usr/local/lib/python3.10/dist-packages (from keras-tuner) (2.15.0)\n",
            "Requirement already satisfied: packaging in /usr/local/lib/python3.10/dist-packages (from keras-tuner) (23.2)\n",
            "Requirement already satisfied: requests in /usr/local/lib/python3.10/dist-packages (from keras-tuner) (2.31.0)\n",
            "Collecting kt-legacy (from keras-tuner)\n",
            "  Downloading kt_legacy-1.0.5-py3-none-any.whl (9.6 kB)\n",
            "Requirement already satisfied: charset-normalizer<4,>=2 in /usr/local/lib/python3.10/dist-packages (from requests->keras-tuner) (3.3.2)\n",
            "Requirement already satisfied: idna<4,>=2.5 in /usr/local/lib/python3.10/dist-packages (from requests->keras-tuner) (3.6)\n",
            "Requirement already satisfied: urllib3<3,>=1.21.1 in /usr/local/lib/python3.10/dist-packages (from requests->keras-tuner) (2.0.7)\n",
            "Requirement already satisfied: certifi>=2017.4.17 in /usr/local/lib/python3.10/dist-packages (from requests->keras-tuner) (2024.2.2)\n",
            "Installing collected packages: kt-legacy, keras-tuner\n",
            "Successfully installed keras-tuner-1.4.7 kt-legacy-1.0.5\n"
          ]
        }
      ]
    },
    {
      "cell_type": "code",
      "execution_count": 18,
      "metadata": {
        "id": "sgiKoBjYYHYU"
      },
      "outputs": [],
      "source": [
        "# Imports\n",
        "import keras\n",
        "from keras.datasets import fashion_mnist\n",
        "from keras import layers\n",
        "from keras import Sequential\n",
        "from keras.layers import Dense, Dropout, Conv2D, MaxPooling2D, Flatten\n",
        "import tensorflow as tf\n",
        "from keras.preprocessing.image import ImageDataGenerator\n",
        "import kerastuner as kt\n",
        "import seaborn as sns\n",
        "\n",
        "import os\n",
        "seed = 100\n",
        "os.environ['PYTHONHASHSEED']=str(seed)\n",
        "keras.utils.set_random_seed(seed)"
      ]
    },
    {
      "cell_type": "code",
      "source": [
        "# load in the data\n",
        "(x_train, y_train), (x_test, y_test) = fashion_mnist.load_data()\n",
        "\n",
        "# make sure that the data is all the right shape\n",
        "assert x_train.shape == (60000, 28, 28)\n",
        "assert x_test.shape == (10000, 28, 28)\n",
        "assert y_train.shape == (60000,)\n",
        "assert y_test.shape == (10000,)\n",
        "\n"
      ],
      "metadata": {
        "id": "32lUpDUlf9Le"
      },
      "execution_count": 72,
      "outputs": []
    },
    {
      "cell_type": "code",
      "source": [
        "labels = {0 : \"T-shirt/top\", 1: \"Trouser\", 2: \"Pullover\", 3: \"Dress\", 4: \"Coat\",\n",
        "          5: \"Sandal\", 6: \"Shirt\", 7: \"Sneaker\", 8: \"Bag\", 9: \"Ankle Boot\"}"
      ],
      "metadata": {
        "id": "k0mT-f9_0Ttm"
      },
      "execution_count": 29,
      "outputs": []
    },
    {
      "cell_type": "code",
      "source": [
        "# Plot the images\n",
        "plt.figure(figsize=[15, 5])\n",
        "print('Train Dataset')\n",
        "\n",
        "# Display the first 5 images in the training data\n",
        "for i in range(10):\n",
        "    plt.subplot(1, 10, i+1)\n",
        "    plt.imshow(x_train[i, :, :], cmap='gray')\n",
        "    plt.title(labels[y_train[i]])\n",
        "\n",
        "plt.show()\n",
        "\n",
        "# Plot the images for the test set\n",
        "print('Test set')\n",
        "plt.figure(figsize=[15, 5])\n",
        "\n",
        "# Display the first 10 images in the testing data\n",
        "for i in range(10):\n",
        "    plt.subplot(1, 10, i+1)\n",
        "    plt.imshow(x_test[i, :, :], cmap='gray')\n",
        "    plt.title(labels[y_test[i]])\n",
        "\n",
        "plt.show()"
      ],
      "metadata": {
        "colab": {
          "base_uri": "https://localhost:8080/",
          "height": 365
        },
        "id": "_vbNC-0BzSzb",
        "outputId": "7cfe6abf-696e-4d33-924b-b8067bc8d643"
      },
      "execution_count": 32,
      "outputs": [
        {
          "output_type": "stream",
          "name": "stdout",
          "text": [
            "Train Dataset\n"
          ]
        },
        {
          "output_type": "display_data",
          "data": {
            "text/plain": [
              "<Figure size 1500x500 with 10 Axes>"
            ],
            "image/png": "[encoded data removed]"
          },
          "metadata": {}
        },
        {
          "output_type": "stream",
          "name": "stdout",
          "text": [
            "Test set\n"
          ]
        },
        {
          "output_type": "display_data",
          "data": {
            "text/plain": [
              "<Figure size 1500x500 with 10 Axes>"
            ],
            "image/png": "[encoded data removed]"
          },
          "metadata": {}
        }
      ]
    },
    {
      "cell_type": "code",
      "source": [
        "# Normalize pixel values between 0 and 1\n",
        "x_train = x_train.astype('float32') / 255.0\n",
        "x_test = x_test.astype('float32') / 255.0\n",
        "\n",
        "# One hot encode the output data\n",
        "y_train = keras.utils.to_categorical(y_train, 10)\n",
        "y_test = keras.utils.to_categorical(y_test, 10)"
      ],
      "metadata": {
        "id": "mRGEIa2s3FOL"
      },
      "execution_count": 73,
      "outputs": []
    },
    {
      "cell_type": "markdown",
      "source": [
        "### **Data Augmentation**"
      ],
      "metadata": {
        "id": "ImciIFy9h6v3"
      }
    },
    {
      "cell_type": "code",
      "source": [
        "train_gen = ImageDataGenerator(\n",
        "    rotation_range=10,\n",
        "    width_shift_range=0.1,\n",
        "    height_shift_range=0.1,\n",
        "    shear_range=0.1,\n",
        "    zoom_range=0.1,\n",
        "    horizontal_flip=True,\n",
        "    vertical_flip=True,\n",
        "    fill_mode='nearest')\n",
        "\n",
        "\n",
        "import numpy as np\n",
        "# Generate aungmented images for the training data\n",
        "x_train = np.reshape(x_train, (60000,28,28,1))\n",
        "training_set = train_gen.flow(x_train, y_train, batch_size=x_train.shape[0])\n",
        "\n",
        "# Generate aungmented images for the test data\n",
        "x_test = np.reshape(x_test, (10000,28,28,1))\n",
        "test_set= train_gen.flow(x_test, y_test, batch_size=x_test.shape[0])\n",
        "\n",
        "# extract the augmented images from the output flow of the generator\n",
        "# add the augmented images generated from the training data to the original training data\n",
        "i = 0\n",
        "for x, y in training_set:\n",
        "  if i < 2:\n",
        "    print(i)\n",
        "    x_train = np.concatenate((x_train, x))\n",
        "    y_train = np.concatenate((y_train, y))\n",
        "    print(x_train.shape)\n",
        "    print(y_train.shape)\n",
        "  else:\n",
        "    break\n",
        "  i += 1\n",
        "\n",
        "# add the augmented images generated from the test data to the original test data\n",
        "i = 0\n",
        "for x, y in test_set:\n",
        "  if i < 2:\n",
        "    print(i)\n",
        "    x_test_aug = np.concatenate((x_test, x))\n",
        "    y_test_aug = np.concatenate((y_test, y))\n",
        "    print(x_test.shape)\n",
        "    print(y_test.shape)\n",
        "  else:\n",
        "    break\n",
        "  i += 1"
      ],
      "metadata": {
        "colab": {
          "base_uri": "https://localhost:8080/"
        },
        "id": "crYKNgODgvIW",
        "outputId": "df060c51-81b4-4808-8536-b37b3e27ebc1"
      },
      "execution_count": 74,
      "outputs": [
        {
          "output_type": "stream",
          "name": "stdout",
          "text": [
            "0\n",
            "(120000, 28, 28, 1)\n",
            "(120000, 10)\n",
            "1\n",
            "(180000, 28, 28, 1)\n",
            "(180000, 10)\n",
            "0\n",
            "(10000, 28, 28, 1)\n",
            "(10000, 10)\n",
            "1\n",
            "(10000, 28, 28, 1)\n",
            "(10000, 10)\n"
          ]
        }
      ]
    },
    {
      "cell_type": "markdown",
      "source": [
        "### **Hyperparameter Tuning**"
      ],
      "metadata": {
        "id": "6DnmMrhniAjA"
      }
    },
    {
      "cell_type": "code",
      "source": [
        "def model_builder(hp):\n",
        "  model = tf.keras.Sequential()\n",
        "  hp_dropout = hp.Float('dropout', min_value=0.1, max_value=0.5, step=0.1)\n",
        "  hp_dropout2 = hp.Float('dropout2', min_value=0.1, max_value=0.5, step=0.1)\n",
        "  model.add(tf.keras.layers.Flatten(input_shape=(28, 28)))\n",
        "  model.add(Dense(512, activation = 'relu'))\n",
        "  model.add(Dense(256, activation = 'relu'))\n",
        "  model.add(Dropout(hp_dropout))\n",
        "  model.add(Dense(128, activation = 'relu'))\n",
        "  model.add(Dropout(hp_dropout2))\n",
        "  model.add(Dense(64, activation = 'relu'))\n",
        "  model.add(Dense(units=10, activation='softmax'))\n",
        "\n",
        "  # set the optimiser in the compile method\n",
        "  model.compile(optimizer = 'adam', loss = 'categorical_crossentropy', metrics = ['accuracy'])\n",
        "\n",
        "  return model"
      ],
      "metadata": {
        "id": "d9-CNxsSb-Ko"
      },
      "execution_count": 5,
      "outputs": []
    },
    {
      "cell_type": "code",
      "source": [
        "tuner = kt.Hyperband(model_builder,\n",
        "                     objective = 'val_accuracy',\n",
        "                     max_epochs = 10,\n",
        "                     factor = 3,           # factor is a number that determines how many models are created to run in parallel whaen testing the hyperparameters\n",
        "                     directory = 'my_dir', # directory that the tuned hyperparameter results are stored in (change the name of this directory if you get the message INFO:tensorflow:Oracle triggered exit)\n",
        "                     project_name = 'intro_to_kt')"
      ],
      "metadata": {
        "id": "PiuiDyAocDUR"
      },
      "execution_count": 6,
      "outputs": []
    },
    {
      "cell_type": "code",
      "source": [
        "class ClearTrainingOutput(tf.keras.callbacks.Callback):\n",
        "  def on_train_end(*args, **kwargs):\n",
        "    IPython.display.clear_output(wait = True)"
      ],
      "metadata": {
        "id": "xg3lqw0QcHFE"
      },
      "execution_count": 7,
      "outputs": []
    },
    {
      "cell_type": "code",
      "source": [
        "import IPython\n",
        "# run the hyperparameter search\n",
        "tuner.search(x_train, y_train, epochs = 10, validation_data = (x_test, y_test), callbacks = [ClearTrainingOutput()])"
      ],
      "metadata": {
        "colab": {
          "base_uri": "https://localhost:8080/"
        },
        "id": "wfF0BqWJcNIi",
        "outputId": "f9b9870f-e96e-482e-da84-019300fa825b"
      },
      "execution_count": 8,
      "outputs": [
        {
          "output_type": "stream",
          "name": "stdout",
          "text": [
            "Trial 30 Complete [00h 09m 06s]\n",
            "val_accuracy: 0.8655999898910522\n",
            "\n",
            "Best val_accuracy So Far: 0.8671000003814697\n",
            "Total elapsed time: 01h 59m 41s\n"
          ]
        }
      ]
    },
    {
      "cell_type": "code",
      "source": [
        "best_hps = tuner.get_best_hyperparameters()[0]\n",
        "print(best_hps.values)"
      ],
      "metadata": {
        "colab": {
          "base_uri": "https://localhost:8080/"
        },
        "id": "WsYr_MBWnn5S",
        "outputId": "8b432c5e-e728-471e-8725-6fa27ad199fd"
      },
      "execution_count": 9,
      "outputs": [
        {
          "output_type": "stream",
          "name": "stdout",
          "text": [
            "{'dropout': 0.30000000000000004, 'dropout2': 0.2, 'tuner/epochs': 10, 'tuner/initial_epoch': 0, 'tuner/bracket': 0, 'tuner/round': 0}\n"
          ]
        }
      ]
    },
    {
      "cell_type": "code",
      "source": [
        "model = tuner.hypermodel.build(best_hps)\n",
        "model.summary()"
      ],
      "metadata": {
        "colab": {
          "base_uri": "https://localhost:8080/"
        },
        "id": "woi0gHQfnyOP",
        "outputId": "e377e873-42aa-4f03-8be5-08bf3b113b6d"
      },
      "execution_count": 17,
      "outputs": [
        {
          "output_type": "stream",
          "name": "stdout",
          "text": [
            "Model: \"sequential_1\"\n",
            "_________________________________________________________________\n",
            " Layer (type)                Output Shape              Param #   \n",
            "=================================================================\n",
            " flatten_1 (Flatten)         (None, 784)               0         \n",
            "                                                                 \n",
            " dense_5 (Dense)             (None, 512)               401920    \n",
            "                                                                 \n",
            " dense_6 (Dense)             (None, 256)               131328    \n",
            "                                                                 \n",
            " dropout_2 (Dropout)         (None, 256)               0         \n",
            "                                                                 \n",
            " dense_7 (Dense)             (None, 128)               32896     \n",
            "                                                                 \n",
            " dropout_3 (Dropout)         (None, 128)               0         \n",
            "                                                                 \n",
            " dense_8 (Dense)             (None, 64)                8256      \n",
            "                                                                 \n",
            " dense_9 (Dense)             (None, 10)                650       \n",
            "                                                                 \n",
            " dense_10 (Dense)            (None, 10)                110       \n",
            "                                                                 \n",
            "=================================================================\n",
            "Total params: 575160 (2.19 MB)\n",
            "Trainable params: 575160 (2.19 MB)\n",
            "Non-trainable params: 0 (0.00 Byte)\n",
            "_________________________________________________________________\n"
          ]
        }
      ]
    },
    {
      "cell_type": "markdown",
      "source": [
        "### **Model 1**"
      ],
      "metadata": {
        "id": "MxgUKZ7CiKOs"
      }
    },
    {
      "cell_type": "code",
      "source": [
        "model = keras.Sequential()\n",
        "model.add(keras.layers.Flatten(input_shape=(28, 28)))\n",
        "model.add(Dense(256, activation = 'relu'))\n",
        "model.add(Dense(224, activation = 'relu'))\n",
        "model.add(Dense(64, activation = 'relu'))\n",
        "model.add(Dense(10, activation = 'softmax'))"
      ],
      "metadata": {
        "id": "PfDtXXM3rUAy"
      },
      "execution_count": 11,
      "outputs": []
    },
    {
      "cell_type": "code",
      "source": [
        "opt = tf.optimizers.Adam(learning_rate=0.001)\n",
        "model.compile(optimizer = opt, loss = 'categorical_crossentropy', metrics = ['accuracy'])\n",
        "history = model.fit(x_train, y_train, epochs = 50, validation_data = (x_test, y_test))"
      ],
      "metadata": {
        "colab": {
          "base_uri": "https://localhost:8080/"
        },
        "id": "khfvI1aMn_lr",
        "outputId": "e9ea7d74-5458-4b12-a084-90f90bfe2b98"
      },
      "execution_count": 12,
      "outputs": [
        {
          "output_type": "stream",
          "name": "stdout",
          "text": [
            "Epoch 1/50\n",
            "5625/5625 [==============================] - 32s 5ms/step - loss: 0.7897 - accuracy: 0.6958 - val_loss: 0.4593 - val_accuracy: 0.8283\n",
            "Epoch 2/50\n",
            "5625/5625 [==============================] - 29s 5ms/step - loss: 0.6398 - accuracy: 0.7555 - val_loss: 0.4254 - val_accuracy: 0.8450\n",
            "Epoch 3/50\n",
            "5625/5625 [==============================] - 31s 6ms/step - loss: 0.5967 - accuracy: 0.7717 - val_loss: 0.4120 - val_accuracy: 0.8468\n",
            "Epoch 4/50\n",
            "5625/5625 [==============================] - 31s 5ms/step - loss: 0.5699 - accuracy: 0.7828 - val_loss: 0.3809 - val_accuracy: 0.8550\n",
            "Epoch 5/50\n",
            "5625/5625 [==============================] - 30s 5ms/step - loss: 0.5532 - accuracy: 0.7898 - val_loss: 0.3791 - val_accuracy: 0.8604\n",
            "Epoch 6/50\n",
            "5625/5625 [==============================] - 31s 6ms/step - loss: 0.5393 - accuracy: 0.7947 - val_loss: 0.3754 - val_accuracy: 0.8565\n",
            "Epoch 7/50\n",
            "5625/5625 [==============================] - 29s 5ms/step - loss: 0.5277 - accuracy: 0.7996 - val_loss: 0.3590 - val_accuracy: 0.8708\n",
            "Epoch 8/50\n",
            "5625/5625 [==============================] - 30s 5ms/step - loss: 0.5164 - accuracy: 0.8037 - val_loss: 0.3594 - val_accuracy: 0.8678\n",
            "Epoch 9/50\n",
            "5625/5625 [==============================] - 30s 5ms/step - loss: 0.5082 - accuracy: 0.8070 - val_loss: 0.3491 - val_accuracy: 0.8707\n",
            "Epoch 10/50\n",
            "5625/5625 [==============================] - 30s 5ms/step - loss: 0.5003 - accuracy: 0.8098 - val_loss: 0.3490 - val_accuracy: 0.8728\n",
            "Epoch 11/50\n",
            "5625/5625 [==============================] - 31s 6ms/step - loss: 0.4933 - accuracy: 0.8120 - val_loss: 0.3426 - val_accuracy: 0.8778\n",
            "Epoch 12/50\n",
            "5625/5625 [==============================] - 30s 5ms/step - loss: 0.4872 - accuracy: 0.8150 - val_loss: 0.3462 - val_accuracy: 0.8750\n",
            "Epoch 13/50\n",
            "5625/5625 [==============================] - 29s 5ms/step - loss: 0.4809 - accuracy: 0.8169 - val_loss: 0.3483 - val_accuracy: 0.8707\n",
            "Epoch 14/50\n",
            "5625/5625 [==============================] - 30s 5ms/step - loss: 0.4780 - accuracy: 0.8173 - val_loss: 0.3437 - val_accuracy: 0.8765\n",
            "Epoch 15/50\n",
            "5625/5625 [==============================] - 29s 5ms/step - loss: 0.4725 - accuracy: 0.8196 - val_loss: 0.3360 - val_accuracy: 0.8792\n",
            "Epoch 16/50\n",
            "5625/5625 [==============================] - 29s 5ms/step - loss: 0.4675 - accuracy: 0.8225 - val_loss: 0.3385 - val_accuracy: 0.8790\n",
            "Epoch 17/50\n",
            "5625/5625 [==============================] - 31s 5ms/step - loss: 0.4638 - accuracy: 0.8231 - val_loss: 0.3359 - val_accuracy: 0.8766\n",
            "Epoch 18/50\n",
            "5625/5625 [==============================] - 30s 5ms/step - loss: 0.4596 - accuracy: 0.8248 - val_loss: 0.3386 - val_accuracy: 0.8749\n",
            "Epoch 19/50\n",
            "5625/5625 [==============================] - 29s 5ms/step - loss: 0.4556 - accuracy: 0.8268 - val_loss: 0.3310 - val_accuracy: 0.8780\n",
            "Epoch 20/50\n",
            "5625/5625 [==============================] - 31s 6ms/step - loss: 0.4525 - accuracy: 0.8281 - val_loss: 0.3377 - val_accuracy: 0.8775\n",
            "Epoch 21/50\n",
            "5625/5625 [==============================] - 29s 5ms/step - loss: 0.4488 - accuracy: 0.8296 - val_loss: 0.3368 - val_accuracy: 0.8771\n",
            "Epoch 22/50\n",
            "5625/5625 [==============================] - 29s 5ms/step - loss: 0.4457 - accuracy: 0.8317 - val_loss: 0.3409 - val_accuracy: 0.8812\n",
            "Epoch 23/50\n",
            "5625/5625 [==============================] - 31s 5ms/step - loss: 0.4445 - accuracy: 0.8312 - val_loss: 0.3360 - val_accuracy: 0.8775\n",
            "Epoch 24/50\n",
            "5625/5625 [==============================] - 30s 5ms/step - loss: 0.4426 - accuracy: 0.8320 - val_loss: 0.3196 - val_accuracy: 0.8823\n",
            "Epoch 25/50\n",
            "5625/5625 [==============================] - 29s 5ms/step - loss: 0.4377 - accuracy: 0.8345 - val_loss: 0.3333 - val_accuracy: 0.8822\n",
            "Epoch 26/50\n",
            "5625/5625 [==============================] - 31s 6ms/step - loss: 0.4355 - accuracy: 0.8345 - val_loss: 0.3270 - val_accuracy: 0.8805\n",
            "Epoch 27/50\n",
            "5625/5625 [==============================] - 30s 5ms/step - loss: 0.4338 - accuracy: 0.8357 - val_loss: 0.3277 - val_accuracy: 0.8791\n",
            "Epoch 28/50\n",
            "5625/5625 [==============================] - 31s 6ms/step - loss: 0.4302 - accuracy: 0.8369 - val_loss: 0.3284 - val_accuracy: 0.8788\n",
            "Epoch 29/50\n",
            "5625/5625 [==============================] - 30s 5ms/step - loss: 0.4316 - accuracy: 0.8369 - val_loss: 0.3272 - val_accuracy: 0.8831\n",
            "Epoch 30/50\n",
            "5625/5625 [==============================] - 30s 5ms/step - loss: 0.4267 - accuracy: 0.8388 - val_loss: 0.3257 - val_accuracy: 0.8822\n",
            "Epoch 31/50\n",
            "5625/5625 [==============================] - 31s 6ms/step - loss: 0.4229 - accuracy: 0.8391 - val_loss: 0.3257 - val_accuracy: 0.8834\n",
            "Epoch 32/50\n",
            "5625/5625 [==============================] - 30s 5ms/step - loss: 0.4218 - accuracy: 0.8397 - val_loss: 0.3234 - val_accuracy: 0.8858\n",
            "Epoch 33/50\n",
            "5625/5625 [==============================] - 30s 5ms/step - loss: 0.4198 - accuracy: 0.8413 - val_loss: 0.3420 - val_accuracy: 0.8789\n",
            "Epoch 34/50\n",
            "5625/5625 [==============================] - 30s 5ms/step - loss: 0.4203 - accuracy: 0.8413 - val_loss: 0.3355 - val_accuracy: 0.8794\n",
            "Epoch 35/50\n",
            "5625/5625 [==============================] - 31s 5ms/step - loss: 0.4175 - accuracy: 0.8423 - val_loss: 0.3306 - val_accuracy: 0.8797\n",
            "Epoch 36/50\n",
            "5625/5625 [==============================] - 31s 5ms/step - loss: 0.4140 - accuracy: 0.8436 - val_loss: 0.3249 - val_accuracy: 0.8846\n",
            "Epoch 37/50\n",
            "5625/5625 [==============================] - 30s 5ms/step - loss: 0.4143 - accuracy: 0.8432 - val_loss: 0.3234 - val_accuracy: 0.8874\n",
            "Epoch 38/50\n",
            "5625/5625 [==============================] - 29s 5ms/step - loss: 0.4104 - accuracy: 0.8447 - val_loss: 0.3322 - val_accuracy: 0.8819\n",
            "Epoch 39/50\n",
            "5625/5625 [==============================] - 31s 5ms/step - loss: 0.4086 - accuracy: 0.8453 - val_loss: 0.3316 - val_accuracy: 0.8851\n",
            "Epoch 40/50\n",
            "5625/5625 [==============================] - 30s 5ms/step - loss: 0.4087 - accuracy: 0.8455 - val_loss: 0.3364 - val_accuracy: 0.8813\n",
            "Epoch 41/50\n",
            "5625/5625 [==============================] - 30s 5ms/step - loss: 0.4056 - accuracy: 0.8470 - val_loss: 0.3248 - val_accuracy: 0.8859\n",
            "Epoch 42/50\n",
            "5625/5625 [==============================] - 31s 6ms/step - loss: 0.4066 - accuracy: 0.8473 - val_loss: 0.3195 - val_accuracy: 0.8857\n",
            "Epoch 43/50\n",
            "5625/5625 [==============================] - 29s 5ms/step - loss: 0.4041 - accuracy: 0.8475 - val_loss: 0.3278 - val_accuracy: 0.8819\n",
            "Epoch 44/50\n",
            "5625/5625 [==============================] - 31s 5ms/step - loss: 0.4022 - accuracy: 0.8480 - val_loss: 0.3419 - val_accuracy: 0.8803\n",
            "Epoch 45/50\n",
            "5625/5625 [==============================] - 30s 5ms/step - loss: 0.4001 - accuracy: 0.8492 - val_loss: 0.3206 - val_accuracy: 0.8856\n",
            "Epoch 46/50\n",
            "5625/5625 [==============================] - 29s 5ms/step - loss: 0.4009 - accuracy: 0.8481 - val_loss: 0.3112 - val_accuracy: 0.8874\n",
            "Epoch 47/50\n",
            "5625/5625 [==============================] - 30s 5ms/step - loss: 0.3987 - accuracy: 0.8491 - val_loss: 0.3209 - val_accuracy: 0.8867\n",
            "Epoch 48/50\n",
            "5625/5625 [==============================] - 30s 5ms/step - loss: 0.3970 - accuracy: 0.8500 - val_loss: 0.3166 - val_accuracy: 0.8884\n",
            "Epoch 49/50\n",
            "5625/5625 [==============================] - 30s 5ms/step - loss: 0.3982 - accuracy: 0.8513 - val_loss: 0.3297 - val_accuracy: 0.8836\n",
            "Epoch 50/50\n",
            "5625/5625 [==============================] - 32s 6ms/step - loss: 0.3964 - accuracy: 0.8500 - val_loss: 0.3123 - val_accuracy: 0.8882\n"
          ]
        }
      ]
    },
    {
      "cell_type": "code",
      "source": [
        "keras.backend.clear_session()\n",
        "\n",
        "# set random seed\n",
        "keras.utils.set_random_seed(seed)"
      ],
      "metadata": {
        "id": "5DGOR1jzihtk"
      },
      "execution_count": 85,
      "outputs": []
    },
    {
      "cell_type": "markdown",
      "source": [
        "### **Model 2**"
      ],
      "metadata": {
        "id": "kwrgr1cFiOW8"
      }
    },
    {
      "cell_type": "code",
      "source": [
        "model = keras.Sequential()\n",
        "model.add(keras.layers.Flatten(input_shape=(28, 28)))\n",
        "model.add(Dense(256, activation = 'relu'))\n",
        "model.add(Dropout(0.3))\n",
        "model.add(Dense(128, activation = 'relu'))\n",
        "model.add(Dropout(0.2))\n",
        "model.add(Dense(64, activation = 'relu'))\n",
        "model.add(Dense(10, activation = 'softmax'))\n"
      ],
      "metadata": {
        "id": "icku35NIgQv8"
      },
      "execution_count": 76,
      "outputs": []
    },
    {
      "cell_type": "code",
      "source": [
        "opt = tf.optimizers.Adam(learning_rate=0.001)\n",
        "model.compile(optimizer = opt, loss = 'categorical_crossentropy', metrics = ['accuracy'])\n",
        "\n",
        "history = model.fit(x_train, y_train, batch_size=60, epochs = 25, validation_data = (x_test, y_test))"
      ],
      "metadata": {
        "colab": {
          "base_uri": "https://localhost:8080/"
        },
        "id": "qkNznwOQVT5J",
        "outputId": "bf7e5806-491e-451d-ee77-15a5787fc72b"
      },
      "execution_count": 77,
      "outputs": [
        {
          "output_type": "stream",
          "name": "stdout",
          "text": [
            "Epoch 1/25\n",
            "3000/3000 [==============================] - 11s 3ms/step - loss: 0.8235 - accuracy: 0.6833 - val_loss: 0.4691 - val_accuracy: 0.8297\n",
            "Epoch 2/25\n",
            "3000/3000 [==============================] - 9s 3ms/step - loss: 0.6580 - accuracy: 0.7493 - val_loss: 0.4222 - val_accuracy: 0.8465\n",
            "Epoch 3/25\n",
            "3000/3000 [==============================] - 9s 3ms/step - loss: 0.6156 - accuracy: 0.7651 - val_loss: 0.4064 - val_accuracy: 0.8536\n",
            "Epoch 4/25\n",
            "3000/3000 [==============================] - 9s 3ms/step - loss: 0.5898 - accuracy: 0.7757 - val_loss: 0.3890 - val_accuracy: 0.8564\n",
            "Epoch 5/25\n",
            "3000/3000 [==============================] - 9s 3ms/step - loss: 0.5720 - accuracy: 0.7827 - val_loss: 0.3728 - val_accuracy: 0.8614\n",
            "Epoch 6/25\n",
            "3000/3000 [==============================] - 9s 3ms/step - loss: 0.5566 - accuracy: 0.7889 - val_loss: 0.3761 - val_accuracy: 0.8651\n",
            "Epoch 7/25\n",
            "3000/3000 [==============================] - 9s 3ms/step - loss: 0.5450 - accuracy: 0.7926 - val_loss: 0.3713 - val_accuracy: 0.8652\n",
            "Epoch 8/25\n",
            "3000/3000 [==============================] - 9s 3ms/step - loss: 0.5349 - accuracy: 0.7971 - val_loss: 0.3613 - val_accuracy: 0.8683\n",
            "Epoch 9/25\n",
            "3000/3000 [==============================] - 9s 3ms/step - loss: 0.5280 - accuracy: 0.7997 - val_loss: 0.3579 - val_accuracy: 0.8687\n",
            "Epoch 10/25\n",
            "3000/3000 [==============================] - 9s 3ms/step - loss: 0.5217 - accuracy: 0.8015 - val_loss: 0.3571 - val_accuracy: 0.8677\n",
            "Epoch 11/25\n",
            "3000/3000 [==============================] - 9s 3ms/step - loss: 0.5153 - accuracy: 0.8039 - val_loss: 0.3527 - val_accuracy: 0.8711\n",
            "Epoch 12/25\n",
            "3000/3000 [==============================] - 9s 3ms/step - loss: 0.5092 - accuracy: 0.8061 - val_loss: 0.3527 - val_accuracy: 0.8737\n",
            "Epoch 13/25\n",
            "3000/3000 [==============================] - 9s 3ms/step - loss: 0.5017 - accuracy: 0.8096 - val_loss: 0.3519 - val_accuracy: 0.8723\n",
            "Epoch 14/25\n",
            "3000/3000 [==============================] - 9s 3ms/step - loss: 0.4972 - accuracy: 0.8106 - val_loss: 0.3423 - val_accuracy: 0.8749\n",
            "Epoch 15/25\n",
            "3000/3000 [==============================] - 9s 3ms/step - loss: 0.4940 - accuracy: 0.8127 - val_loss: 0.3512 - val_accuracy: 0.8706\n",
            "Epoch 16/25\n",
            "3000/3000 [==============================] - 9s 3ms/step - loss: 0.4887 - accuracy: 0.8137 - val_loss: 0.3573 - val_accuracy: 0.8693\n",
            "Epoch 17/25\n",
            "3000/3000 [==============================] - 9s 3ms/step - loss: 0.4849 - accuracy: 0.8154 - val_loss: 0.3422 - val_accuracy: 0.8775\n",
            "Epoch 18/25\n",
            "3000/3000 [==============================] - 9s 3ms/step - loss: 0.4820 - accuracy: 0.8177 - val_loss: 0.3407 - val_accuracy: 0.8747\n",
            "Epoch 19/25\n",
            "3000/3000 [==============================] - 9s 3ms/step - loss: 0.4777 - accuracy: 0.8191 - val_loss: 0.3509 - val_accuracy: 0.8725\n",
            "Epoch 20/25\n",
            "3000/3000 [==============================] - 9s 3ms/step - loss: 0.4742 - accuracy: 0.8196 - val_loss: 0.3410 - val_accuracy: 0.8764\n",
            "Epoch 21/25\n",
            "3000/3000 [==============================] - 9s 3ms/step - loss: 0.4717 - accuracy: 0.8213 - val_loss: 0.3487 - val_accuracy: 0.8722\n",
            "Epoch 22/25\n",
            "3000/3000 [==============================] - 9s 3ms/step - loss: 0.4699 - accuracy: 0.8218 - val_loss: 0.3424 - val_accuracy: 0.8753\n",
            "Epoch 23/25\n",
            "3000/3000 [==============================] - 9s 3ms/step - loss: 0.4664 - accuracy: 0.8234 - val_loss: 0.3308 - val_accuracy: 0.8798\n",
            "Epoch 24/25\n",
            "3000/3000 [==============================] - 9s 3ms/step - loss: 0.4648 - accuracy: 0.8236 - val_loss: 0.3342 - val_accuracy: 0.8790\n",
            "Epoch 25/25\n",
            "3000/3000 [==============================] - 9s 3ms/step - loss: 0.4625 - accuracy: 0.8241 - val_loss: 0.3329 - val_accuracy: 0.8790\n"
          ]
        }
      ]
    },
    {
      "cell_type": "markdown",
      "source": [
        "### **Model 3**"
      ],
      "metadata": {
        "id": "8GRjW8lCiSci"
      }
    },
    {
      "cell_type": "code",
      "source": [
        "model = Sequential([\n",
        "    Conv2D(128, (3, 3), activation='relu', input_shape=(28, 28, 1)),\n",
        "    MaxPooling2D((2, 2)),\n",
        "    Conv2D(64, (3, 3), activation='relu'),\n",
        "    MaxPooling2D((2, 2)),\n",
        "    Conv2D(32, (3, 3), activation='relu'),\n",
        "    MaxPooling2D((2, 2)),\n",
        "    Flatten(),\n",
        "    Dense(128, activation='relu'),\n",
        "    Dropout(0.5),\n",
        "    Dense(10, activation='softmax')\n",
        "])"
      ],
      "metadata": {
        "id": "gNeZ0C14aAsU"
      },
      "execution_count": 86,
      "outputs": []
    },
    {
      "cell_type": "code",
      "source": [
        "opt = tf.optimizers.Adam(learning_rate=0.001)\n",
        "model.compile(optimizer = opt, loss = 'categorical_crossentropy', metrics = ['accuracy'])\n",
        "\n",
        "history = model.fit(x_train, y_train, batch_size=60, epochs = 25, validation_data = (x_test, y_test))"
      ],
      "metadata": {
        "colab": {
          "base_uri": "https://localhost:8080/"
        },
        "id": "FS5Uly-aaEzc",
        "outputId": "9a9f69ae-71a1-46fe-d79c-8061a5261f06"
      },
      "execution_count": 87,
      "outputs": [
        {
          "output_type": "stream",
          "name": "stdout",
          "text": [
            "Epoch 1/25\n",
            "3000/3000 [==============================] - 13s 4ms/step - loss: 0.7980 - accuracy: 0.7066 - val_loss: 0.4697 - val_accuracy: 0.8297\n",
            "Epoch 2/25\n",
            "3000/3000 [==============================] - 12s 4ms/step - loss: 0.5682 - accuracy: 0.7945 - val_loss: 0.4154 - val_accuracy: 0.8524\n",
            "Epoch 3/25\n",
            "3000/3000 [==============================] - 11s 4ms/step - loss: 0.5033 - accuracy: 0.8173 - val_loss: 0.3964 - val_accuracy: 0.8570\n",
            "Epoch 4/25\n",
            "3000/3000 [==============================] - 11s 4ms/step - loss: 0.4721 - accuracy: 0.8296 - val_loss: 0.3653 - val_accuracy: 0.8687\n",
            "Epoch 5/25\n",
            "3000/3000 [==============================] - 11s 4ms/step - loss: 0.4518 - accuracy: 0.8373 - val_loss: 0.3614 - val_accuracy: 0.8695\n",
            "Epoch 6/25\n",
            "3000/3000 [==============================] - 11s 4ms/step - loss: 0.4319 - accuracy: 0.8441 - val_loss: 0.3485 - val_accuracy: 0.8721\n",
            "Epoch 7/25\n",
            "3000/3000 [==============================] - 11s 4ms/step - loss: 0.4201 - accuracy: 0.8484 - val_loss: 0.3505 - val_accuracy: 0.8780\n",
            "Epoch 8/25\n",
            "3000/3000 [==============================] - 11s 4ms/step - loss: 0.4066 - accuracy: 0.8531 - val_loss: 0.3416 - val_accuracy: 0.8790\n",
            "Epoch 9/25\n",
            "3000/3000 [==============================] - 11s 4ms/step - loss: 0.3968 - accuracy: 0.8555 - val_loss: 0.3454 - val_accuracy: 0.8761\n",
            "Epoch 10/25\n",
            "3000/3000 [==============================] - 11s 4ms/step - loss: 0.3882 - accuracy: 0.8593 - val_loss: 0.3441 - val_accuracy: 0.8818\n",
            "Epoch 11/25\n",
            "3000/3000 [==============================] - 11s 4ms/step - loss: 0.3781 - accuracy: 0.8628 - val_loss: 0.3334 - val_accuracy: 0.8857\n",
            "Epoch 12/25\n",
            "3000/3000 [==============================] - 11s 4ms/step - loss: 0.3739 - accuracy: 0.8656 - val_loss: 0.3438 - val_accuracy: 0.8823\n",
            "Epoch 13/25\n",
            "3000/3000 [==============================] - 12s 4ms/step - loss: 0.3643 - accuracy: 0.8677 - val_loss: 0.3364 - val_accuracy: 0.8862\n",
            "Epoch 14/25\n",
            "3000/3000 [==============================] - 11s 4ms/step - loss: 0.3596 - accuracy: 0.8694 - val_loss: 0.3428 - val_accuracy: 0.8829\n",
            "Epoch 15/25\n",
            "3000/3000 [==============================] - 11s 4ms/step - loss: 0.3540 - accuracy: 0.8721 - val_loss: 0.3384 - val_accuracy: 0.8883\n",
            "Epoch 16/25\n",
            "3000/3000 [==============================] - 11s 4ms/step - loss: 0.3500 - accuracy: 0.8722 - val_loss: 0.3730 - val_accuracy: 0.8776\n",
            "Epoch 17/25\n",
            "3000/3000 [==============================] - 11s 4ms/step - loss: 0.3431 - accuracy: 0.8752 - val_loss: 0.3588 - val_accuracy: 0.8804\n",
            "Epoch 18/25\n",
            "3000/3000 [==============================] - 12s 4ms/step - loss: 0.3396 - accuracy: 0.8771 - val_loss: 0.3408 - val_accuracy: 0.8862\n",
            "Epoch 19/25\n",
            "3000/3000 [==============================] - 11s 4ms/step - loss: 0.3362 - accuracy: 0.8777 - val_loss: 0.3453 - val_accuracy: 0.8862\n",
            "Epoch 20/25\n",
            "3000/3000 [==============================] - 11s 4ms/step - loss: 0.3311 - accuracy: 0.8793 - val_loss: 0.3618 - val_accuracy: 0.8802\n",
            "Epoch 21/25\n",
            "3000/3000 [==============================] - 11s 4ms/step - loss: 0.3273 - accuracy: 0.8800 - val_loss: 0.3383 - val_accuracy: 0.8861\n",
            "Epoch 22/25\n",
            "3000/3000 [==============================] - 11s 4ms/step - loss: 0.3231 - accuracy: 0.8817 - val_loss: 0.3701 - val_accuracy: 0.8861\n",
            "Epoch 23/25\n",
            "3000/3000 [==============================] - 11s 4ms/step - loss: 0.3186 - accuracy: 0.8840 - val_loss: 0.3633 - val_accuracy: 0.8827\n",
            "Epoch 24/25\n",
            "3000/3000 [==============================] - 11s 4ms/step - loss: 0.3160 - accuracy: 0.8846 - val_loss: 0.3502 - val_accuracy: 0.8879\n",
            "Epoch 25/25\n",
            "3000/3000 [==============================] - 11s 4ms/step - loss: 0.3128 - accuracy: 0.8852 - val_loss: 0.3683 - val_accuracy: 0.8856\n"
          ]
        }
      ]
    },
    {
      "cell_type": "markdown",
      "source": [
        "### **Model 3**"
      ],
      "metadata": {
        "id": "sfA090NuZ4wD"
      }
    },
    {
      "cell_type": "code",
      "source": [
        "model = Sequential([\n",
        "    Conv2D(32, (3, 3), activation='relu', input_shape=(28, 28, 1)),\n",
        "    MaxPooling2D((2, 2)),\n",
        "    Conv2D(64, (3, 3), activation='relu'),\n",
        "    MaxPooling2D((2, 2)),\n",
        "    Conv2D(64, (3, 3), activation='relu'),\n",
        "    MaxPooling2D((2, 2)),\n",
        "    Flatten(),\n",
        "    Dense(64, activation='relu'),\n",
        "    Dropout(0.5),\n",
        "    Dense(10, activation='softmax')\n",
        "])"
      ],
      "metadata": {
        "id": "75woS3ZyWdZX"
      },
      "execution_count": 83,
      "outputs": []
    },
    {
      "cell_type": "code",
      "source": [
        "opt = tf.optimizers.Adam(learning_rate=0.001)\n",
        "model.compile(optimizer = opt, loss = 'categorical_crossentropy', metrics = ['accuracy'])\n",
        "\n",
        "history = model.fit(x_train, y_train, batch_size=60, epochs = 25, validation_data = (x_test, y_test))"
      ],
      "metadata": {
        "colab": {
          "base_uri": "https://localhost:8080/"
        },
        "id": "ne2Bb2SbWhEI",
        "outputId": "1bf640c9-0972-44d2-e92a-a64bea840800"
      },
      "execution_count": 84,
      "outputs": [
        {
          "output_type": "stream",
          "name": "stdout",
          "text": [
            "Epoch 1/25\n",
            "3000/3000 [==============================] - 13s 4ms/step - loss: 0.8647 - accuracy: 0.6822 - val_loss: 0.5100 - val_accuracy: 0.8138\n",
            "Epoch 2/25\n",
            "3000/3000 [==============================] - 11s 4ms/step - loss: 0.6106 - accuracy: 0.7813 - val_loss: 0.4304 - val_accuracy: 0.8418\n",
            "Epoch 3/25\n",
            "3000/3000 [==============================] - 11s 4ms/step - loss: 0.5391 - accuracy: 0.8082 - val_loss: 0.4113 - val_accuracy: 0.8568\n",
            "Epoch 4/25\n",
            "3000/3000 [==============================] - 11s 4ms/step - loss: 0.5023 - accuracy: 0.8222 - val_loss: 0.3713 - val_accuracy: 0.8657\n",
            "Epoch 5/25\n",
            "3000/3000 [==============================] - 11s 4ms/step - loss: 0.4749 - accuracy: 0.8320 - val_loss: 0.3770 - val_accuracy: 0.8607\n",
            "Epoch 6/25\n",
            "3000/3000 [==============================] - 11s 4ms/step - loss: 0.4532 - accuracy: 0.8400 - val_loss: 0.3437 - val_accuracy: 0.8762\n",
            "Epoch 7/25\n",
            "3000/3000 [==============================] - 11s 4ms/step - loss: 0.4341 - accuracy: 0.8457 - val_loss: 0.3489 - val_accuracy: 0.8775\n",
            "Epoch 8/25\n",
            "3000/3000 [==============================] - 11s 4ms/step - loss: 0.4213 - accuracy: 0.8494 - val_loss: 0.3367 - val_accuracy: 0.8822\n",
            "Epoch 9/25\n",
            "3000/3000 [==============================] - 11s 4ms/step - loss: 0.4110 - accuracy: 0.8534 - val_loss: 0.3342 - val_accuracy: 0.8818\n",
            "Epoch 10/25\n",
            "3000/3000 [==============================] - 11s 4ms/step - loss: 0.4009 - accuracy: 0.8578 - val_loss: 0.3317 - val_accuracy: 0.8839\n",
            "Epoch 11/25\n",
            "3000/3000 [==============================] - 11s 4ms/step - loss: 0.3915 - accuracy: 0.8599 - val_loss: 0.3301 - val_accuracy: 0.8840\n",
            "Epoch 12/25\n",
            "3000/3000 [==============================] - 11s 4ms/step - loss: 0.3823 - accuracy: 0.8631 - val_loss: 0.3358 - val_accuracy: 0.8799\n",
            "Epoch 13/25\n",
            "3000/3000 [==============================] - 11s 4ms/step - loss: 0.3754 - accuracy: 0.8657 - val_loss: 0.3366 - val_accuracy: 0.8829\n",
            "Epoch 14/25\n",
            "3000/3000 [==============================] - 11s 4ms/step - loss: 0.3690 - accuracy: 0.8672 - val_loss: 0.3505 - val_accuracy: 0.8797\n",
            "Epoch 15/25\n",
            "3000/3000 [==============================] - 11s 4ms/step - loss: 0.3634 - accuracy: 0.8698 - val_loss: 0.3337 - val_accuracy: 0.8861\n",
            "Epoch 16/25\n",
            "3000/3000 [==============================] - 11s 4ms/step - loss: 0.3570 - accuracy: 0.8712 - val_loss: 0.3507 - val_accuracy: 0.8807\n",
            "Epoch 17/25\n",
            "3000/3000 [==============================] - 11s 4ms/step - loss: 0.3510 - accuracy: 0.8726 - val_loss: 0.3342 - val_accuracy: 0.8840\n",
            "Epoch 18/25\n",
            "3000/3000 [==============================] - 12s 4ms/step - loss: 0.3475 - accuracy: 0.8743 - val_loss: 0.3385 - val_accuracy: 0.8865\n",
            "Epoch 19/25\n",
            "3000/3000 [==============================] - 11s 4ms/step - loss: 0.3440 - accuracy: 0.8757 - val_loss: 0.3355 - val_accuracy: 0.8891\n",
            "Epoch 20/25\n",
            "3000/3000 [==============================] - 11s 4ms/step - loss: 0.3389 - accuracy: 0.8770 - val_loss: 0.3522 - val_accuracy: 0.8880\n",
            "Epoch 21/25\n",
            "3000/3000 [==============================] - 11s 4ms/step - loss: 0.3352 - accuracy: 0.8784 - val_loss: 0.3442 - val_accuracy: 0.8856\n",
            "Epoch 22/25\n",
            "3000/3000 [==============================] - 11s 4ms/step - loss: 0.3308 - accuracy: 0.8801 - val_loss: 0.3507 - val_accuracy: 0.8853\n",
            "Epoch 23/25\n",
            "3000/3000 [==============================] - 11s 4ms/step - loss: 0.3275 - accuracy: 0.8809 - val_loss: 0.3531 - val_accuracy: 0.8895\n",
            "Epoch 24/25\n",
            "3000/3000 [==============================] - 11s 4ms/step - loss: 0.3248 - accuracy: 0.8816 - val_loss: 0.3700 - val_accuracy: 0.8866\n",
            "Epoch 25/25\n",
            "3000/3000 [==============================] - 11s 4ms/step - loss: 0.3186 - accuracy: 0.8842 - val_loss: 0.3514 - val_accuracy: 0.8910\n"
          ]
        }
      ]
    },
    {
      "cell_type": "markdown",
      "source": [
        "### **Model 4**"
      ],
      "metadata": {
        "id": "s7LQqg20VJnt"
      }
    },
    {
      "cell_type": "code",
      "source": [
        "model = Sequential([\n",
        "    Conv2D(64, (3, 3), activation='relu', input_shape=(28, 28, 1)),\n",
        "    MaxPooling2D((2, 2)),\n",
        "    Conv2D(64, (3, 3), activation='relu'),\n",
        "    MaxPooling2D((2, 2)),\n",
        "    Conv2D(64, (3, 3), activation='relu'),\n",
        "    Flatten(),\n",
        "    Dense(64, activation='relu'),\n",
        "    Dropout(0.5),\n",
        "    Dense(10, activation='softmax')\n",
        "])"
      ],
      "metadata": {
        "id": "Ej3ytgwPQV00"
      },
      "execution_count": 80,
      "outputs": []
    },
    {
      "cell_type": "code",
      "source": [
        "model.summary()"
      ],
      "metadata": {
        "colab": {
          "base_uri": "https://localhost:8080/"
        },
        "id": "6PvVgtnG-HMu",
        "outputId": "83ece7ff-0521-4df9-ac34-ad62912c73c3"
      },
      "execution_count": 81,
      "outputs": [
        {
          "output_type": "stream",
          "name": "stdout",
          "text": [
            "Model: \"sequential_2\"\n",
            "_________________________________________________________________\n",
            " Layer (type)                Output Shape              Param #   \n",
            "=================================================================\n",
            " conv2d_3 (Conv2D)           (None, 26, 26, 64)        640       \n",
            "                                                                 \n",
            " max_pooling2d_2 (MaxPoolin  (None, 13, 13, 64)        0         \n",
            " g2D)                                                            \n",
            "                                                                 \n",
            " conv2d_4 (Conv2D)           (None, 11, 11, 64)        36928     \n",
            "                                                                 \n",
            " max_pooling2d_3 (MaxPoolin  (None, 5, 5, 64)          0         \n",
            " g2D)                                                            \n",
            "                                                                 \n",
            " conv2d_5 (Conv2D)           (None, 3, 3, 64)          36928     \n",
            "                                                                 \n",
            " flatten_2 (Flatten)         (None, 576)               0         \n",
            "                                                                 \n",
            " dense_6 (Dense)             (None, 64)                36928     \n",
            "                                                                 \n",
            " dropout_3 (Dropout)         (None, 64)                0         \n",
            "                                                                 \n",
            " dense_7 (Dense)             (None, 10)                650       \n",
            "                                                                 \n",
            "=================================================================\n",
            "Total params: 112074 (437.79 KB)\n",
            "Trainable params: 112074 (437.79 KB)\n",
            "Non-trainable params: 0 (0.00 Byte)\n",
            "_________________________________________________________________\n"
          ]
        }
      ]
    },
    {
      "cell_type": "code",
      "source": [
        "# training the model\n",
        "opt = tf.optimizers.Adam(learning_rate=0.001)\n",
        "model.compile(optimizer = opt, loss = 'categorical_crossentropy', metrics = ['accuracy'])\n",
        "\n",
        "history = model.fit(x_train, y_train, batch_size=60, epochs = 25, validation_data = (x_test, y_test))"
      ],
      "metadata": {
        "colab": {
          "base_uri": "https://localhost:8080/"
        },
        "id": "Wk5nq1qPg2CO",
        "outputId": "4a53356a-8b94-4b7d-d912-9bd3c7469129"
      },
      "execution_count": 41,
      "outputs": [
        {
          "output_type": "stream",
          "name": "stdout",
          "text": [
            "Epoch 1/25\n",
            "3000/3000 [==============================] - 12s 4ms/step - loss: 0.7854 - accuracy: 0.7111 - val_loss: 0.4396 - val_accuracy: 0.8416\n",
            "Epoch 2/25\n",
            "3000/3000 [==============================] - 11s 4ms/step - loss: 0.5472 - accuracy: 0.8014 - val_loss: 0.3404 - val_accuracy: 0.8791\n",
            "Epoch 3/25\n",
            "3000/3000 [==============================] - 11s 4ms/step - loss: 0.4714 - accuracy: 0.8300 - val_loss: 0.3282 - val_accuracy: 0.8836\n",
            "Epoch 4/25\n",
            "3000/3000 [==============================] - 11s 4ms/step - loss: 0.4327 - accuracy: 0.8447 - val_loss: 0.3206 - val_accuracy: 0.8888\n",
            "Epoch 5/25\n",
            "3000/3000 [==============================] - 10s 3ms/step - loss: 0.4040 - accuracy: 0.8548 - val_loss: 0.2920 - val_accuracy: 0.8984\n",
            "Epoch 6/25\n",
            "3000/3000 [==============================] - 11s 4ms/step - loss: 0.3835 - accuracy: 0.8616 - val_loss: 0.2782 - val_accuracy: 0.9012\n",
            "Epoch 7/25\n",
            "3000/3000 [==============================] - 11s 4ms/step - loss: 0.3682 - accuracy: 0.8669 - val_loss: 0.2841 - val_accuracy: 0.9019\n",
            "Epoch 8/25\n",
            "3000/3000 [==============================] - 11s 4ms/step - loss: 0.3554 - accuracy: 0.8716 - val_loss: 0.2818 - val_accuracy: 0.9022\n",
            "Epoch 9/25\n",
            "3000/3000 [==============================] - 11s 4ms/step - loss: 0.3450 - accuracy: 0.8741 - val_loss: 0.2661 - val_accuracy: 0.9073\n",
            "Epoch 10/25\n",
            "3000/3000 [==============================] - 11s 4ms/step - loss: 0.3336 - accuracy: 0.8791 - val_loss: 0.2713 - val_accuracy: 0.9055\n",
            "Epoch 11/25\n",
            "3000/3000 [==============================] - 11s 4ms/step - loss: 0.3256 - accuracy: 0.8813 - val_loss: 0.2759 - val_accuracy: 0.9066\n",
            "Epoch 12/25\n",
            "3000/3000 [==============================] - 10s 3ms/step - loss: 0.3197 - accuracy: 0.8837 - val_loss: 0.2878 - val_accuracy: 0.9002\n",
            "Epoch 13/25\n",
            "3000/3000 [==============================] - 10s 3ms/step - loss: 0.3124 - accuracy: 0.8855 - val_loss: 0.2798 - val_accuracy: 0.9049\n",
            "Epoch 14/25\n",
            "3000/3000 [==============================] - 12s 4ms/step - loss: 0.3068 - accuracy: 0.8880 - val_loss: 0.2930 - val_accuracy: 0.9010\n",
            "Epoch 15/25\n",
            "3000/3000 [==============================] - 11s 4ms/step - loss: 0.3004 - accuracy: 0.8900 - val_loss: 0.2845 - val_accuracy: 0.9045\n",
            "Epoch 16/25\n",
            "3000/3000 [==============================] - 11s 4ms/step - loss: 0.2946 - accuracy: 0.8908 - val_loss: 0.2799 - val_accuracy: 0.9058\n",
            "Epoch 17/25\n",
            "3000/3000 [==============================] - 11s 4ms/step - loss: 0.2892 - accuracy: 0.8930 - val_loss: 0.2771 - val_accuracy: 0.9098\n",
            "Epoch 18/25\n",
            "3000/3000 [==============================] - 11s 4ms/step - loss: 0.2848 - accuracy: 0.8945 - val_loss: 0.2793 - val_accuracy: 0.9105\n",
            "Epoch 19/25\n",
            "3000/3000 [==============================] - 11s 4ms/step - loss: 0.2809 - accuracy: 0.8956 - val_loss: 0.2835 - val_accuracy: 0.9097\n",
            "Epoch 20/25\n",
            "3000/3000 [==============================] - 11s 4ms/step - loss: 0.2768 - accuracy: 0.8973 - val_loss: 0.2961 - val_accuracy: 0.9083\n",
            "Epoch 21/25\n",
            "3000/3000 [==============================] - 11s 4ms/step - loss: 0.2717 - accuracy: 0.8988 - val_loss: 0.2936 - val_accuracy: 0.9062\n",
            "Epoch 22/25\n",
            "3000/3000 [==============================] - 11s 4ms/step - loss: 0.2680 - accuracy: 0.8999 - val_loss: 0.3028 - val_accuracy: 0.9098\n",
            "Epoch 23/25\n",
            "3000/3000 [==============================] - 11s 4ms/step - loss: 0.2646 - accuracy: 0.9011 - val_loss: 0.2919 - val_accuracy: 0.9081\n",
            "Epoch 24/25\n",
            "3000/3000 [==============================] - 11s 4ms/step - loss: 0.2633 - accuracy: 0.9013 - val_loss: 0.3085 - val_accuracy: 0.9058\n",
            "Epoch 25/25\n",
            "3000/3000 [==============================] - 11s 4ms/step - loss: 0.2583 - accuracy: 0.9031 - val_loss: 0.3201 - val_accuracy: 0.9105\n"
          ]
        }
      ]
    },
    {
      "cell_type": "code",
      "source": [
        "import matplotlib.pyplot as plt\n",
        "\n",
        "# summarize the history for accuracy\n",
        "plt.plot(history.history['accuracy'])\n",
        "plt.plot(history.history['val_accuracy'])\n",
        "plt.title('model accuracy')\n",
        "plt.ylabel('accuracy')\n",
        "plt.xlabel('epoch')\n",
        "plt.legend(['train','test'], loc='upper left')\n",
        "plt.show()\n",
        "\n",
        "# summarize the history for loss\n",
        "plt.plot(history.history['loss'])\n",
        "plt.plot(history.history['val_loss'])\n",
        "plt.title('model loss')\n",
        "plt.ylabel('loss')\n",
        "plt.xlabel('epoch')\n",
        "plt.legend(['train','test'], loc='upper left')\n",
        "plt.show()"
      ],
      "metadata": {
        "colab": {
          "base_uri": "https://localhost:8080/",
          "height": 927
        },
        "id": "BDl-EWT3hg9D",
        "outputId": "042da073-a286-40f1-bd04-38eaaba5e311"
      },
      "execution_count": 43,
      "outputs": [
        {
          "output_type": "display_data",
          "data": {
            "text/plain": [
              "<Figure size 640x480 with 1 Axes>"
            ],
            "image/png": "[encoded data removed]"
          },
          "metadata": {}
        },
        {
          "output_type": "display_data",
          "data": {
            "text/plain": [
              "<Figure size 640x480 with 1 Axes>"
            ],
            "image/png": "[encoded data removed]"
          },
          "metadata": {}
        }
      ]
    },
    {
      "cell_type": "code",
      "source": [
        "score = model.evaluate(x_train, y_train, verbose=0)\n",
        "print('Train loss:', score[0])\n",
        "print('Train accuracy:', score[1])"
      ],
      "metadata": {
        "colab": {
          "base_uri": "https://localhost:8080/"
        },
        "id": "IBpEO4S9L_p7",
        "outputId": "5408d349-2cfd-4f90-82fd-b1315a0a6f42"
      },
      "execution_count": 68,
      "outputs": [
        {
          "output_type": "stream",
          "name": "stdout",
          "text": [
            "Train loss: 0.3087417185306549\n",
            "Train accuracy: 0.8951277732849121\n"
          ]
        }
      ]
    },
    {
      "cell_type": "code",
      "source": [],
      "metadata": {
        "id": "senZ-tTy_QjQ"
      },
      "execution_count": null,
      "outputs": []
    }
  ],
  "metadata": {
    "colab": {
      "provenance": [],
      "machine_shape": "hm",
      "gpuType": "V100"
    },
    "kernelspec": {
      "display_name": "Python 3",
      "name": "python3"
    },
    "language_info": {
      "name": "python"
    },
    "accelerator": "GPU"
  },
  "nbformat": 4,
  "nbformat_minor": 0
}